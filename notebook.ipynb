{
 "cells": [
  {
   "cell_type": "markdown",
   "metadata": {},
   "source": [
    "# Covid 19 Visualizatuion and Prediction\n",
    "\n",
    "- Inspired by [Coronavirus (COVID-19) Visualization & Prediction: Kaggle](https://www.kaggle.com/code/therealcyberlord/coronavirus-covid-19-visualization-prediction)\n",
    "- Data provided by [Ministry of health in CZ](https://www.mzcr.cz)"
   ]
  },
  {
   "cell_type": "code",
   "execution_count": 41,
   "metadata": {},
   "outputs": [],
   "source": [
    "import os\n",
    "from dotenv import load_dotenv\n",
    "\n",
    "import pandas as pd\n",
    "import numpy as np\n",
    "import matplotlib.pyplot as plt\n",
    "import seaborn as sns\n",
    "sns.set_theme(style=\"darkgrid\")"
   ]
  },
  {
   "cell_type": "markdown",
   "metadata": {
    "collapsed": false,
    "pycharm": {
     "name": "#%% md\n"
    }
   },
   "source": [
    "### Load the data"
   ]
  },
  {
   "cell_type": "code",
   "execution_count": 42,
   "metadata": {},
   "outputs": [],
   "source": [
    "# Load .env file\n",
    "load_dotenv()\n",
    "\n",
    "apikey = os.getenv(\"APIKEY\")\n",
    "\n",
    "if apikey is None:\n",
    "    raise ValueError(\"APIKEY not found in .env file\")"
   ]
  },
  {
   "cell_type": "code",
   "execution_count": 43,
   "metadata": {
    "collapsed": false,
    "pycharm": {
     "name": "#%%\n"
    }
   },
   "outputs": [
    {
     "data": {
      "text/html": [
       "<div>\n",
       "<style scoped>\n",
       "    .dataframe tbody tr th:only-of-type {\n",
       "        vertical-align: middle;\n",
       "    }\n",
       "\n",
       "    .dataframe tbody tr th {\n",
       "        vertical-align: top;\n",
       "    }\n",
       "\n",
       "    .dataframe thead th {\n",
       "        text-align: right;\n",
       "    }\n",
       "</style>\n",
       "<table border=\"1\" class=\"dataframe\">\n",
       "  <thead>\n",
       "    <tr style=\"text-align: right;\">\n",
       "      <th></th>\n",
       "      <th>datum</th>\n",
       "      <th>okres</th>\n",
       "      <th>orp</th>\n",
       "      <th>pohlavi</th>\n",
       "      <th>vek_kat</th>\n",
       "      <th>pocet_pozitivni</th>\n",
       "      <th>pocet_vyleceni</th>\n",
       "      <th>pocet_zemreli</th>\n",
       "      <th>pocet_umrti_hospitalizace</th>\n",
       "      <th>pocet_umrti_komplikovany</th>\n",
       "    </tr>\n",
       "  </thead>\n",
       "  <tbody>\n",
       "    <tr>\n",
       "      <th>0</th>\n",
       "      <td>2020-03-01</td>\n",
       "      <td>CZ0421</td>\n",
       "      <td>4202</td>\n",
       "      <td>M</td>\n",
       "      <td>20-64</td>\n",
       "      <td>1.0</td>\n",
       "      <td>NaN</td>\n",
       "      <td>NaN</td>\n",
       "      <td>NaN</td>\n",
       "      <td>NaN</td>\n",
       "    </tr>\n",
       "    <tr>\n",
       "      <th>1</th>\n",
       "      <td>2020-03-01</td>\n",
       "      <td>CZ0100</td>\n",
       "      <td>0</td>\n",
       "      <td>M</td>\n",
       "      <td>65+</td>\n",
       "      <td>1.0</td>\n",
       "      <td>NaN</td>\n",
       "      <td>NaN</td>\n",
       "      <td>NaN</td>\n",
       "      <td>NaN</td>\n",
       "    </tr>\n",
       "    <tr>\n",
       "      <th>2</th>\n",
       "      <td>2020-03-01</td>\n",
       "      <td>CZ0100</td>\n",
       "      <td>0</td>\n",
       "      <td>Z</td>\n",
       "      <td>20-64</td>\n",
       "      <td>1.0</td>\n",
       "      <td>NaN</td>\n",
       "      <td>NaN</td>\n",
       "      <td>NaN</td>\n",
       "      <td>NaN</td>\n",
       "    </tr>\n",
       "    <tr>\n",
       "      <th>3</th>\n",
       "      <td>2020-03-03</td>\n",
       "      <td>CZ0100</td>\n",
       "      <td>0</td>\n",
       "      <td>Z</td>\n",
       "      <td>20-64</td>\n",
       "      <td>1.0</td>\n",
       "      <td>NaN</td>\n",
       "      <td>NaN</td>\n",
       "      <td>NaN</td>\n",
       "      <td>NaN</td>\n",
       "    </tr>\n",
       "    <tr>\n",
       "      <th>4</th>\n",
       "      <td>2020-03-03</td>\n",
       "      <td>CZ0421</td>\n",
       "      <td>4202</td>\n",
       "      <td>Z</td>\n",
       "      <td>20-64</td>\n",
       "      <td>1.0</td>\n",
       "      <td>NaN</td>\n",
       "      <td>NaN</td>\n",
       "      <td>NaN</td>\n",
       "      <td>NaN</td>\n",
       "    </tr>\n",
       "  </tbody>\n",
       "</table>\n",
       "</div>"
      ],
      "text/plain": [
       "        datum   okres   orp pohlavi vek_kat  pocet_pozitivni  pocet_vyleceni  \\\n",
       "0  2020-03-01  CZ0421  4202       M   20-64              1.0             NaN   \n",
       "1  2020-03-01  CZ0100     0       M     65+              1.0             NaN   \n",
       "2  2020-03-01  CZ0100     0       Z   20-64              1.0             NaN   \n",
       "3  2020-03-03  CZ0100     0       Z   20-64              1.0             NaN   \n",
       "4  2020-03-03  CZ0421  4202       Z   20-64              1.0             NaN   \n",
       "\n",
       "   pocet_zemreli  pocet_umrti_hospitalizace  pocet_umrti_komplikovany  \n",
       "0            NaN                        NaN                       NaN  \n",
       "1            NaN                        NaN                       NaN  \n",
       "2            NaN                        NaN                       NaN  \n",
       "3            NaN                        NaN                       NaN  \n",
       "4            NaN                        NaN                       NaN  "
      ]
     },
     "execution_count": 43,
     "metadata": {},
     "output_type": "execute_result"
    }
   ],
   "source": [
    "confirmed_df = pd.read_csv(\"https://onemocneni-aktualne.mzcr.cz/api/account/{}/file/modely%2Fmodely_01_okresni_statistika.csv\".format(apikey), sep=\";\")\n",
    "confirmed_df.head()"
   ]
  },
  {
   "cell_type": "code",
   "execution_count": 44,
   "metadata": {
    "collapsed": false,
    "pycharm": {
     "name": "#%%\n"
    }
   },
   "outputs": [
    {
     "data": {
      "text/html": [
       "<div>\n",
       "<style scoped>\n",
       "    .dataframe tbody tr th:only-of-type {\n",
       "        vertical-align: middle;\n",
       "    }\n",
       "\n",
       "    .dataframe tbody tr th {\n",
       "        vertical-align: top;\n",
       "    }\n",
       "\n",
       "    .dataframe thead th {\n",
       "        text-align: right;\n",
       "    }\n",
       "</style>\n",
       "<table border=\"1\" class=\"dataframe\">\n",
       "  <thead>\n",
       "    <tr style=\"text-align: right;\">\n",
       "      <th></th>\n",
       "      <th>vek_kat</th>\n",
       "      <th>pohlavi</th>\n",
       "      <th>kraj_bydliste</th>\n",
       "      <th>kraj_prvni_nemocnice</th>\n",
       "      <th>datum_priznaku</th>\n",
       "      <th>datum_odberu</th>\n",
       "      <th>datum_positivity</th>\n",
       "      <th>stav_dle_khs</th>\n",
       "      <th>zahajeni_hosp</th>\n",
       "      <th>posledni_zaznam</th>\n",
       "      <th>...</th>\n",
       "      <th>upv</th>\n",
       "      <th>upv_pocatek</th>\n",
       "      <th>dni_upv</th>\n",
       "      <th>upv_posledni</th>\n",
       "      <th>ecmo</th>\n",
       "      <th>ecmo_pocatek</th>\n",
       "      <th>dni_ecmo</th>\n",
       "      <th>ecmo_posledni</th>\n",
       "      <th>umrti</th>\n",
       "      <th>datum_umrti</th>\n",
       "    </tr>\n",
       "  </thead>\n",
       "  <tbody>\n",
       "    <tr>\n",
       "      <th>0</th>\n",
       "      <td>15-19</td>\n",
       "      <td>M</td>\n",
       "      <td>CZ064</td>\n",
       "      <td>CZ010</td>\n",
       "      <td>NaN</td>\n",
       "      <td>2020-10-12</td>\n",
       "      <td>2020-10-12</td>\n",
       "      <td>NaN</td>\n",
       "      <td>2020-10-12</td>\n",
       "      <td>2020-10-23</td>\n",
       "      <td>...</td>\n",
       "      <td>0</td>\n",
       "      <td>NaN</td>\n",
       "      <td>0</td>\n",
       "      <td>NaN</td>\n",
       "      <td>0</td>\n",
       "      <td>NaN</td>\n",
       "      <td>0</td>\n",
       "      <td>NaN</td>\n",
       "      <td>NaN</td>\n",
       "      <td>NaN</td>\n",
       "    </tr>\n",
       "    <tr>\n",
       "      <th>1</th>\n",
       "      <td>70-74</td>\n",
       "      <td>M</td>\n",
       "      <td>CZ032</td>\n",
       "      <td>CZ032</td>\n",
       "      <td>NaN</td>\n",
       "      <td>NaN</td>\n",
       "      <td>2021-03-01</td>\n",
       "      <td>NaN</td>\n",
       "      <td>2021-03-01</td>\n",
       "      <td>2021-03-06</td>\n",
       "      <td>...</td>\n",
       "      <td>0</td>\n",
       "      <td>NaN</td>\n",
       "      <td>0</td>\n",
       "      <td>NaN</td>\n",
       "      <td>0</td>\n",
       "      <td>NaN</td>\n",
       "      <td>0</td>\n",
       "      <td>NaN</td>\n",
       "      <td>NaN</td>\n",
       "      <td>NaN</td>\n",
       "    </tr>\n",
       "    <tr>\n",
       "      <th>2</th>\n",
       "      <td>85-89</td>\n",
       "      <td>M</td>\n",
       "      <td>CZ020</td>\n",
       "      <td>CZ020</td>\n",
       "      <td>2020-12-07</td>\n",
       "      <td>2020-12-13</td>\n",
       "      <td>2020-12-13</td>\n",
       "      <td>NaN</td>\n",
       "      <td>2020-12-18</td>\n",
       "      <td>2020-12-21</td>\n",
       "      <td>...</td>\n",
       "      <td>0</td>\n",
       "      <td>NaN</td>\n",
       "      <td>0</td>\n",
       "      <td>NaN</td>\n",
       "      <td>0</td>\n",
       "      <td>NaN</td>\n",
       "      <td>0</td>\n",
       "      <td>NaN</td>\n",
       "      <td>1.0</td>\n",
       "      <td>2020-12-21</td>\n",
       "    </tr>\n",
       "    <tr>\n",
       "      <th>3</th>\n",
       "      <td>95-99</td>\n",
       "      <td>Z</td>\n",
       "      <td>CZ064</td>\n",
       "      <td>CZ064</td>\n",
       "      <td>2021-03-07</td>\n",
       "      <td>2021-03-07</td>\n",
       "      <td>2021-03-07</td>\n",
       "      <td>NaN</td>\n",
       "      <td>2021-03-07</td>\n",
       "      <td>2021-03-18</td>\n",
       "      <td>...</td>\n",
       "      <td>0</td>\n",
       "      <td>NaN</td>\n",
       "      <td>0</td>\n",
       "      <td>NaN</td>\n",
       "      <td>0</td>\n",
       "      <td>NaN</td>\n",
       "      <td>0</td>\n",
       "      <td>NaN</td>\n",
       "      <td>NaN</td>\n",
       "      <td>NaN</td>\n",
       "    </tr>\n",
       "    <tr>\n",
       "      <th>4</th>\n",
       "      <td>70-74</td>\n",
       "      <td>M</td>\n",
       "      <td>CZ032</td>\n",
       "      <td>CZ032</td>\n",
       "      <td>2020-04-15</td>\n",
       "      <td>2020-04-26</td>\n",
       "      <td>2020-04-26</td>\n",
       "      <td>Lehký - Lehký</td>\n",
       "      <td>2020-04-26</td>\n",
       "      <td>2020-05-23</td>\n",
       "      <td>...</td>\n",
       "      <td>0</td>\n",
       "      <td>NaN</td>\n",
       "      <td>0</td>\n",
       "      <td>NaN</td>\n",
       "      <td>0</td>\n",
       "      <td>NaN</td>\n",
       "      <td>0</td>\n",
       "      <td>NaN</td>\n",
       "      <td>NaN</td>\n",
       "      <td>NaN</td>\n",
       "    </tr>\n",
       "  </tbody>\n",
       "</table>\n",
       "<p>5 rows × 35 columns</p>\n",
       "</div>"
      ],
      "text/plain": [
       "  vek_kat pohlavi kraj_bydliste kraj_prvni_nemocnice datum_priznaku  \\\n",
       "0   15-19       M         CZ064                CZ010            NaN   \n",
       "1   70-74       M         CZ032                CZ032            NaN   \n",
       "2   85-89       M         CZ020                CZ020     2020-12-07   \n",
       "3   95-99       Z         CZ064                CZ064     2021-03-07   \n",
       "4   70-74       M         CZ032                CZ032     2020-04-15   \n",
       "\n",
       "  datum_odberu datum_positivity   stav_dle_khs zahajeni_hosp posledni_zaznam  \\\n",
       "0   2020-10-12       2020-10-12            NaN    2020-10-12      2020-10-23   \n",
       "1          NaN       2021-03-01            NaN    2021-03-01      2021-03-06   \n",
       "2   2020-12-13       2020-12-13            NaN    2020-12-18      2020-12-21   \n",
       "3   2021-03-07       2021-03-07            NaN    2021-03-07      2021-03-18   \n",
       "4   2020-04-26       2020-04-26  Lehký - Lehký    2020-04-26      2020-05-23   \n",
       "\n",
       "   ... upv upv_pocatek dni_upv  upv_posledni ecmo  ecmo_pocatek dni_ecmo  \\\n",
       "0  ...   0         NaN       0           NaN    0           NaN        0   \n",
       "1  ...   0         NaN       0           NaN    0           NaN        0   \n",
       "2  ...   0         NaN       0           NaN    0           NaN        0   \n",
       "3  ...   0         NaN       0           NaN    0           NaN        0   \n",
       "4  ...   0         NaN       0           NaN    0           NaN        0   \n",
       "\n",
       "   ecmo_posledni umrti  datum_umrti  \n",
       "0            NaN   NaN          NaN  \n",
       "1            NaN   NaN          NaN  \n",
       "2            NaN   1.0   2020-12-21  \n",
       "3            NaN   NaN          NaN  \n",
       "4            NaN   NaN          NaN  \n",
       "\n",
       "[5 rows x 35 columns]"
      ]
     },
     "execution_count": 44,
     "metadata": {},
     "output_type": "execute_result"
    }
   ],
   "source": [
    "hospitalized_df = pd.read_csv(\"https://onemocneni-aktualne.mzcr.cz/api/account/{}/file/modely%2Fmodely_05_hospitalizovani_analyza.csv\".format(apikey), sep=\";\")\n",
    "hospitalized_df.head()"
   ]
  },
  {
   "cell_type": "markdown",
   "metadata": {},
   "source": [
    "### Data preparation"
   ]
  },
  {
   "cell_type": "markdown",
   "metadata": {},
   "source": [
    "Data Cleaning"
   ]
  },
  {
   "cell_type": "code",
   "execution_count": 45,
   "metadata": {},
   "outputs": [],
   "source": [
    "# Replace NaN with 0\n",
    "confirmed_df = confirmed_df.fillna(0)\n",
    "hospitalized_df = hospitalized_df.fillna(0)"
   ]
  },
  {
   "cell_type": "markdown",
   "metadata": {},
   "source": [
    "Merge confirmed dataset rows with the same date"
   ]
  },
  {
   "cell_type": "code",
   "execution_count": 46,
   "metadata": {},
   "outputs": [],
   "source": [
    "confirmed_df = confirmed_df.groupby(\"datum\").sum().reset_index()\n",
    "hospitalized_df = hospitalized_df.groupby(\"zahajeni_hosp\").sum().reset_index()"
   ]
  },
  {
   "cell_type": "markdown",
   "metadata": {},
   "source": [
    "Turn the data into a time series"
   ]
  },
  {
   "cell_type": "code",
   "execution_count": 47,
   "metadata": {},
   "outputs": [],
   "source": [
    "num_dates = len(confirmed_df[\"datum\"])\n",
    "\n",
    "total_confirmed = []\n",
    "total_deaths = []\n",
    "total_recovered = []\n",
    "total_hospitalized = []\n",
    "\n",
    "total_confirmed_cumulative = []\n",
    "total_deaths_cumulative = []\n",
    "total_recovered_cumulative = []\n",
    "total_hospitalized_cumulative = []\n",
    "\n",
    "total_active = []\n",
    "mortality_rate = []\n",
    "recovery_rate = []\n",
    "\n",
    "for i in range(num_dates):\n",
    "    # Daily increases\n",
    "    total_confirmed.append(confirmed_df[\"pocet_pozitivni\"][i])\n",
    "    total_deaths.append(confirmed_df[\"pocet_zemreli\"][i])\n",
    "    total_recovered.append(confirmed_df[\"pocet_vyleceni\"][i])\n",
    "\n",
    "    # Cumulative totals\n",
    "    total_confirmed_cumulative.append(sum(total_confirmed))\n",
    "    total_deaths_cumulative.append(sum(total_deaths))\n",
    "    total_recovered_cumulative.append(sum(total_recovered))\n",
    "\n",
    "     # Check if the date is in the hospitalized_df\n",
    "    if confirmed_df[\"datum\"][i] in hospitalized_df[\"zahajeni_hosp\"].values:\n",
    "        # Daily increase\n",
    "        total_hospitalized.append(hospitalized_df[\"tezky_stav\"][hospitalized_df[\"zahajeni_hosp\"] == confirmed_df[\"datum\"][i]].values[0])\n",
    "        # Cumulative total\n",
    "        total_hospitalized_cumulative.append(sum(total_hospitalized))\n",
    "\n",
    "    # Other metrics\n",
    "    total_active.append(total_confirmed[i] - total_deaths[i] - total_recovered[i])\n",
    "    mortality_rate.append(total_deaths[i] / total_confirmed[i])\n",
    "    recovery_rate.append(total_recovered[i] / total_confirmed[i])"
   ]
  },
  {
   "cell_type": "markdown",
   "metadata": {},
   "source": [
    "Calculate the moving average using pandas"
   ]
  },
  {
   "cell_type": "code",
   "execution_count": 48,
   "metadata": {},
   "outputs": [],
   "source": [
    "# Calculate the moving average\n",
    "window_size = 7\n",
    "moving_average = lambda x, win: (np.convolve(x, np.ones(win), \"valid\") / win)\n",
    "\n",
    "total_confirmed_moving_avg = moving_average(total_confirmed, window_size)\n",
    "total_deaths_moving_avg = moving_average(total_deaths, window_size)\n",
    "total_recovered_moving_avg = moving_average(total_recovered, window_size)\n",
    "total_hospitalized_moving_avg = moving_average(total_hospitalized, window_size)\n",
    "\n",
    "total_confirmed_cumulative_moving_avg = moving_average(total_confirmed_cumulative, window_size)\n",
    "total_deaths_cumulative_moving_avg = moving_average(total_deaths_cumulative, window_size)\n",
    "total_recovered_cumulative_moving_avg = moving_average(total_recovered_cumulative, window_size)\n",
    "total_hospitalized_cumulative_moving_avg = moving_average(total_hospitalized_cumulative, window_size)\n",
    "\n",
    "total_active_moving_avg = moving_average(total_active, window_size)"
   ]
  },
  {
   "cell_type": "markdown",
   "metadata": {},
   "source": [
    "Convert the data into a numpy array"
   ]
  },
  {
   "cell_type": "code",
   "execution_count": 49,
   "metadata": {},
   "outputs": [],
   "source": [
    "# Convert to numpy arrays\n",
    "total_confirmed = np.array(total_confirmed)\n",
    "total_deaths = np.array(total_deaths)\n",
    "total_recovered = np.array(total_recovered)\n",
    "total_hospitalized = np.array(total_hospitalized)\n",
    "\n",
    "total_confirmed_cumulative = np.array(total_confirmed_cumulative)\n",
    "total_deaths_cumulative = np.array(total_deaths_cumulative)\n",
    "total_recovered_cumulative = np.array(total_recovered_cumulative)\n",
    "total_hospitalized_cumulative = np.array(total_hospitalized_cumulative)\n",
    "\n",
    "total_confirmed_moving_avg = np.array(total_confirmed_moving_avg)\n",
    "total_deaths_moving_avg = np.array(total_deaths_moving_avg)\n",
    "total_recovered_moving_avg = np.array(total_recovered_moving_avg)\n",
    "total_hospitalized_moving_avg = np.array(total_hospitalized_moving_avg)\n",
    "\n",
    "total_confirmed_cumulative_moving_avg = np.array(total_confirmed_cumulative_moving_avg)\n",
    "total_deaths_cumulative_moving_avg = np.array(total_deaths_cumulative_moving_avg)\n",
    "total_recovered_cumulative_moving_avg = np.array(total_recovered_cumulative_moving_avg)\n",
    "total_hospitalized_cumulative_moving_avg = np.array(total_hospitalized_cumulative_moving_avg)\n",
    "\n",
    "total_active = np.array(total_active)\n",
    "total_active_moving_avg = np.array(total_active_moving_avg)\n",
    "\n",
    "mortality_rate = np.array(mortality_rate)\n",
    "recovery_rate = np.array(recovery_rate)"
   ]
  },
  {
   "cell_type": "markdown",
   "metadata": {},
   "source": [
    "## Future predictions"
   ]
  },
  {
   "cell_type": "code",
   "execution_count": 50,
   "metadata": {},
   "outputs": [],
   "source": [
    "days_in_future = 10\n",
    "future_forcast = np.array([i for i in range(len(total_confirmed) + days_in_future)]).reshape(-1, 1)\n",
    "adjusted_dates = future_forcast[:-10].flatten()"
   ]
  },
  {
   "cell_type": "markdown",
   "metadata": {},
   "source": [
    "## Data Visualization"
   ]
  },
  {
   "cell_type": "code",
   "execution_count": 51,
   "metadata": {},
   "outputs": [
    {
     "data": {
      "text/plain": [
       "<AxesSubplot:>"
      ]
     },
     "execution_count": 51,
     "metadata": {},
     "output_type": "execute_result"
    },
    {
     "data": {
      "image/png": "[encoded data removed]",
      "text/plain": [
       "<Figure size 1440x720 with 1 Axes>"
      ]
     },
     "metadata": {},
     "output_type": "display_data"
    }
   ],
   "source": [
    "# Make the plot 2x bigger\n",
    "plt.figure(figsize=(20, 10))\n",
    "\n",
    "sns.lineplot(x=adjusted_dates, y=total_confirmed, label=\"Confirmed\")\n",
    "sns.lineplot(x=range(num_dates - window_size + 1), y=total_confirmed_moving_avg, label=\"Confirmed (7-day moving average)\")\n",
    "\n",
    "#sns.lineplot(x=range(num_dates), y=total_deaths, label=\"Deaths\")\n",
    "#sns.lineplot(x=range(num_dates - window_size + 1), y=total_deaths_moving_avg, label=\"Deaths (7-day moving average)\")\n",
    "\n",
    "#sns.lineplot(x=range(num_dates), y=total_recovered, label=\"Recovered\")\n",
    "#sns.lineplot(x=range(num_dates - window_size + 1), y=total_recovered_moving_avg, label=\"Recovered (7-day moving average)\")\n",
    "\n",
    "#sns.lineplot(x=range(num_dates), y=total_hospitalized, label=\"Hospitalized\")\n",
    "#sns.lineplot(x=range(num_dates - window_size + 1), y=total_hospitalized_moving_avg, label=\"Hospitalized (7-day moving average)\")\n"
   ]
  },
  {
   "cell_type": "code",
   "execution_count": 52,
   "metadata": {},
   "outputs": [
    {
     "ename": "AttributeError",
     "evalue": "'numpy.ndarray' object has no attribute 'head'",
     "output_type": "error",
     "traceback": [
      "\u001b[0;31m---------------------------------------------------------------------------\u001b[0m",
      "\u001b[0;31mAttributeError\u001b[0m                            Traceback (most recent call last)",
      "\u001b[1;32m/Users/tobbox/Developer/DataScience/CovidPrediction/notebook.ipynb Cell 22\u001b[0m in \u001b[0;36m<cell line: 1>\u001b[0;34m()\u001b[0m\n\u001b[0;32m----> <a href='vscode-notebook-cell:/Users/tobbox/Developer/DataScience/CovidPrediction/notebook.ipynb#X25sZmlsZQ%3D%3D?line=0'>1</a>\u001b[0m total_confirmed\u001b[39m.\u001b[39;49mhead()\n\u001b[1;32m      <a href='vscode-notebook-cell:/Users/tobbox/Developer/DataScience/CovidPrediction/notebook.ipynb#X25sZmlsZQ%3D%3D?line=1'>2</a>\u001b[0m total_confirmed_moving_avg\u001b[39m.\u001b[39mhead()\n",
      "\u001b[0;31mAttributeError\u001b[0m: 'numpy.ndarray' object has no attribute 'head'"
     ]
    }
   ],
   "source": [
    "total_confirmed.head()\n",
    "total_confirmed_moving_avg.head()"
   ]
  }
 ],
 "metadata": {
  "kernelspec": {
   "display_name": "Python 3.9.12 ('datascience')",
   "language": "python",
   "name": "python3"
  },
  "language_info": {
   "codemirror_mode": {
    "name": "ipython",
    "version": 3
   },
   "file_extension": ".py",
   "mimetype": "text/x-python",
   "name": "python",
   "nbconvert_exporter": "python",
   "pygments_lexer": "ipython3",
   "version": "3.9.12"
  },
  "orig_nbformat": 4,
  "vscode": {
   "interpreter": {
    "hash": "7c15afef78f50668981ba711ec2661f2a5596a86ec48569938de9a5d0b5f4743"
   }
  }
 },
 "nbformat": 4,
 "nbformat_minor": 2
}
